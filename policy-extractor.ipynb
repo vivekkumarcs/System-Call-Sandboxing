{
 "cells": [
  {
   "cell_type": "code",
   "execution_count": 1,
   "id": "3fe8dd33",
   "metadata": {},
   "outputs": [],
   "source": [
    "import angr\n",
    "import graphviz"
   ]
  },
  {
   "cell_type": "code",
   "execution_count": 2,
   "id": "11a3c476",
   "metadata": {},
   "outputs": [],
   "source": [
    "path = './tests/2'\n",
    "binary_path = f'{path}/out'"
   ]
  },
  {
   "cell_type": "code",
   "execution_count": null,
   "id": "a603d42d",
   "metadata": {
    "scrolled": true
   },
   "outputs": [],
   "source": [
    "p = angr.Project(binary_path, load_options={'auto_load_libs': True})\n",
    "cfg = p.analyses.CFGFast()"
   ]
  },
  {
   "cell_type": "code",
   "execution_count": 4,
   "id": "f269b13d",
   "metadata": {},
   "outputs": [],
   "source": [
    "def get_syscall_info(block_addr):\n",
    "    block = p.factory.block(int(block_addr, base=16))\n",
    "    inst_addrs = list(block.instruction_addrs)\n",
    "    block_dump = block.bytes\n",
    "    n = block.instructions\n",
    "    prev = -2\n",
    "\n",
    "    syscall_no = -1\n",
    "    for i in range(n - 2, -1, -1):\n",
    "        prev -= inst_addrs[i+1] - inst_addrs[i]\n",
    "        if hex(block_dump[prev]) != '0xb8':\n",
    "            continue\n",
    "        lst = str(block_dump[prev + 1: prev + 5])[2:-1].split('\\\\x')\n",
    "        # print(lst)\n",
    "        syscall_no = int('0x' + lst[-1] + lst[-2] + lst[-3] + lst[-4], base=16)\n",
    "        # print(syscall_no, int(syscall_no, base=16))\n",
    "    return inst_addrs[-1], syscall_no"
   ]
  },
  {
   "cell_type": "code",
   "execution_count": 5,
   "id": "068af851",
   "metadata": {},
   "outputs": [],
   "source": [
    "class func_info:\n",
    "    def __init__(self, name, start, end, adj, callees, contains_syscall):\n",
    "        self.name = name\n",
    "        self.start = start\n",
    "        self.end = end\n",
    "        self.adj = adj\n",
    "        self.callees = callees\n",
    "        self.contains_syscall = contains_syscall\n",
    "        \n",
    "    \n",
    "    def __str__(self):\n",
    "        for u in self.adj:\n",
    "            print(u, self.adj[u])\n",
    "        s = f'''\n",
    "            function name: {self.name}\n",
    "            start = {self.start}\n",
    "            end = {self.end}\n",
    "            callees = {self.callees}\n",
    "            #Nodes = {len(self.adj)}\n",
    "            contains_syscall = {self.contains_syscall}\n",
    "        '''\n",
    "        return s\n",
    "        \n",
    "\n",
    "class tools:\n",
    "    def __init__(self, cfg):\n",
    "        self.cfg = cfg\n",
    "        \n",
    "#     def __init__(self, binary, load_libs = False):\n",
    "#         p = angr.Project(binary, load_options={'auto_load_libs': load_libs}) \n",
    "#         self.cfg = p.analyses.CFGFast()\n",
    "\n",
    "\n",
    "    def dfs(self, u, adj, visited, end):\n",
    "        if visited[u]:\n",
    "            return []\n",
    "        visited[u] = True\n",
    "        lst = []\n",
    "        for x in adj[u]:\n",
    "            if x[0] not in visited:\n",
    "                print('unexpected')\n",
    "            elif x[0] in end:\n",
    "                lst.append(x)\n",
    "            elif x[1] == 0:\n",
    "                lst.extend(self.dfs(x[0], adj, visited, end))\n",
    "            else:\n",
    "                lst.append(x)\n",
    "        return lst\n",
    "    \n",
    "\n",
    "    def compress(self, func):\n",
    "        adj = func.adj\n",
    "        queue = [func.start]\n",
    "        adj2 = {}\n",
    "        end = set(func.end)\n",
    "        while len(queue) > 0:\n",
    "            u = queue.pop(0)\n",
    "            visited = {}\n",
    "            for k in adj:\n",
    "                visited[k] = False\n",
    "            if u not in visited:\n",
    "                print('unexpected 2')\n",
    "                continue\n",
    "            lst = self.dfs(u, adj, visited, end)\n",
    "            for x in lst:\n",
    "                if x[0] not in adj2:\n",
    "                    queue.append(x[0])\n",
    "            \n",
    "            destinations = set()\n",
    "            lst\n",
    "            adj2[u] = lst\n",
    "        \n",
    "        fname = func.name\n",
    "        start = func.start\n",
    "        end = func.end\n",
    "        callees = func.callees\n",
    "        contains_syscall = func.contains_syscall\n",
    "        return func_info(fname, start, end, adj2, callees, contains_syscall)\n",
    "    \n",
    "\n",
    "    def print_func_info(self, fname):\n",
    "        fptr = self.cfg.functions.function(name = fname)\n",
    "        \n",
    "        G = fptr.transition_graph\n",
    "        V = list(G.nodes())\n",
    "        E = []\n",
    "        for e in list(G.edges()):\n",
    "            E.append(list(e))\n",
    "        \n",
    "        print()\n",
    "        for v in V:\n",
    "            print(v)\n",
    "        print()\n",
    "        for e in E:\n",
    "            print(e)\n",
    "        \n",
    "        print(hex(fptr.addr))\n",
    "        print(fptr.ret_sites)\n",
    "        \n",
    "    \n",
    "    def get_func_info(self, fname):\n",
    "        fptr = self.cfg.functions.function(name = fname)\n",
    "        \n",
    "        G = fptr.transition_graph\n",
    "        V = list(G.nodes())\n",
    "        E = []\n",
    "        for e in list(G.edges()):\n",
    "            E.append(list(e))\n",
    "        \n",
    "        adj = {}\n",
    "        \n",
    "        callees = set()\n",
    "        \n",
    "        pending = []\n",
    "        \n",
    "        for node in V:\n",
    "            if isinstance(node, angr.codenode.BlockNode):\n",
    "                u = node.addr\n",
    "                u = hex(u)\n",
    "                adj[u] = []\n",
    "        \n",
    "        for e in E:\n",
    "            if not isinstance(e[1], angr.codenode.BlockNode):\n",
    "                pending.append(e)\n",
    "                continue\n",
    "            \n",
    "            u, v = e[0].addr, e[1].addr\n",
    "            u, v = hex(u), hex(v)\n",
    "            if (u not in adj) or (v not in adj):\n",
    "                continue\n",
    "            adj[u].append([v, 0])\n",
    "        \n",
    "        contains_syscall = False\n",
    "        for e in pending:\n",
    "            if not isinstance(e[1], angr.knowledge_plugins.functions.function.Function):\n",
    "                continue\n",
    "                \n",
    "            u = hex(e[0].addr)\n",
    "            if len(adj[u]) < 1:\n",
    "                continue\n",
    "            \n",
    "            name = 'syscall'\n",
    "            if not e[1].is_syscall:\n",
    "                name = e[1].name\n",
    "                if name == 'UnresolvableCallTarget':\n",
    "                    if len(adj[u]) > 0:\n",
    "                        adj[u].pop()\n",
    "                    continue\n",
    "                    \n",
    "                callees.add(name)\n",
    "                \n",
    "                if adj[u][0][1] == 0:\n",
    "                    adj[u][0][1] = 1\n",
    "                    adj[u][0].append(name)\n",
    "                else:\n",
    "                    adj[u].append([adj[u][0][0], 1, name])\n",
    "            else:\n",
    "                contains_syscall = True\n",
    "                addr, syscall_no = get_syscall_info(u)\n",
    "                if adj[u][0][1] == 0:\n",
    "                    adj[u][0][1] = 2\n",
    "                    adj[u][0].extend([addr, syscall_no])\n",
    "                else:\n",
    "                    adj[u].append([adj[u][0][0], 2, addr, syscall_no])\n",
    "        \n",
    "        start = hex(fptr.addr)\n",
    "\n",
    "        end = [hex(x.addr) for x in fptr.ret_sites]\n",
    "        \n",
    "        \n",
    "        return func_info(fname, start, end, adj, callees, contains_syscall)\n",
    "    \n",
    "        \n",
    "t = tools(cfg)          "
   ]
  },
  {
   "cell_type": "code",
   "execution_count": 6,
   "id": "03172d2e",
   "metadata": {},
   "outputs": [],
   "source": [
    "def generateCFG():\n",
    "    function_map = {}\n",
    "    pending = [\"main\"]\n",
    "    while len(pending) > 0:\n",
    "        fname = pending.pop()\n",
    "        if fname in function_map:\n",
    "            continue\n",
    "        finfo = t.get_func_info(fname)\n",
    "#         print(finfo)\n",
    "        pending.extend(list(finfo.callees))\n",
    "        function_map[fname] = finfo\n",
    "    return function_map    "
   ]
  },
  {
   "cell_type": "code",
   "execution_count": 7,
   "id": "f6d180f2",
   "metadata": {
    "scrolled": true
   },
   "outputs": [
    {
     "name": "stdout",
     "output_type": "stream",
     "text": [
      "{'main': <__main__.func_info object at 0x7fec854919c0>, '__libc_write': <__main__.func_info object at 0x7fec85491990>, '__pthread_disable_asynccancel': <__main__.func_info object at 0x7fec85491900>, '__pthread_enable_asynccancel': <__main__.func_info object at 0x7fec85491180>, 'close': <__main__.func_info object at 0x7fec854912a0>, '__open64': <__main__.func_info object at 0x7fec85491270>, 'factorial': <__main__.func_info object at 0x7fec85491570>, 'read': <__main__.func_info object at 0x7fec85491540>, 'fibonacci': <__main__.func_info object at 0x7fec85491240>}\n"
     ]
    }
   ],
   "source": [
    "function_map = generateCFG()\n",
    "print(function_map)"
   ]
  },
  {
   "cell_type": "code",
   "execution_count": 8,
   "id": "fbd59039",
   "metadata": {
    "scrolled": true
   },
   "outputs": [
    {
     "name": "stdout",
     "output_type": "stream",
     "text": [
      "{'main': <__main__.func_info object at 0x7fec85490730>, '__libc_write': <__main__.func_info object at 0x7fec85493940>, '__pthread_disable_asynccancel': <__main__.func_info object at 0x7fec85493a60>, '__pthread_enable_asynccancel': <__main__.func_info object at 0x7fec85493d90>, 'close': <__main__.func_info object at 0x7fec854938b0>, '__open64': <__main__.func_info object at 0x7fec85490760>, 'factorial': <__main__.func_info object at 0x7fec85490820>, 'read': <__main__.func_info object at 0x7fec85490880>, 'fibonacci': <__main__.func_info object at 0x7fec85493c40>}\n"
     ]
    }
   ],
   "source": [
    "compressed_map = {}\n",
    "for name in function_map:\n",
    "    compressed_map[name] = t.compress(function_map[name])\n",
    "print(compressed_map)"
   ]
  },
  {
   "cell_type": "code",
   "execution_count": 9,
   "id": "b90b6614",
   "metadata": {},
   "outputs": [],
   "source": [
    "def mergeCFG(function_map):\n",
    "    adj = {}\n",
    "    for fname in function_map:\n",
    "        if len(function_map[fname].end) == 0:\n",
    "            continue\n",
    "        adjaceny = function_map[fname].adj\n",
    "        for u in adjaceny:\n",
    "            adj[u] = [x for x in adjaceny[u]]\n",
    "    \n",
    "    for u in adj:\n",
    "        for i in range(len(adj[u])):\n",
    "            \n",
    "            # if unlabelled edge or syscall edge\n",
    "            if adj[u][i][1] in [0, 2]:\n",
    "                continue\n",
    "            \n",
    "            v = adj[u][i][0]\n",
    "            name = adj[u][i][2]\n",
    "            entry = function_map[name].start\n",
    "            exits = function_map[name].end\n",
    "            \n",
    "            # if no exits in target function\n",
    "            # then remove the edge\n",
    "            if len(exits) == 0:\n",
    "                adj[u][i] = [u, 0]\n",
    "                # adj[u].pop(i)\n",
    "                continue\n",
    "            \n",
    "            # update entry\n",
    "            adj[u][i] = [entry, 0]\n",
    "            \n",
    "            # update exits\n",
    "            for w in exits:\n",
    "                # why doesnt work when if is removed\n",
    "                if w in adj:\n",
    "                    adj[w].append([v, 0])\n",
    "    return adj\n",
    "                    \n",
    "                \n",
    "# mergeCFG(function_map)            "
   ]
  },
  {
   "cell_type": "code",
   "execution_count": 10,
   "id": "25bba57e",
   "metadata": {},
   "outputs": [],
   "source": [
    "def generateImage(adj, directory, filename):\n",
    "    dot = graphviz.Digraph(name = filename)\n",
    "    for u in adj:\n",
    "        for x in adj[u]:\n",
    "            v = x[0]\n",
    "            if x[1] == 1:\n",
    "                dot.edge(u, v, x[2])\n",
    "            elif x[1] == 2:\n",
    "                label = f'sycall:{x[3]},{hex(x[2])}'\n",
    "                dot.edge(u, v, label)\n",
    "            else:\n",
    "                dot.edge(u, v)\n",
    "    dot.render(directory = directory)"
   ]
  },
  {
   "cell_type": "code",
   "execution_count": 11,
   "id": "1d782e17",
   "metadata": {},
   "outputs": [],
   "source": [
    "for name in function_map:\n",
    "    generateImage(function_map[name].adj, f\"{path}/cfg/function-wise\", name)\n",
    "    generateImage(compressed_map[name].adj, f\"{path}/cfg/function-wise-compressed\", name)"
   ]
  },
  {
   "cell_type": "code",
   "execution_count": 12,
   "id": "ca3b9580",
   "metadata": {},
   "outputs": [
    {
     "name": "stdout",
     "output_type": "stream",
     "text": [
      "Uncompressed: V = 89, E = 131\n",
      "Compressed-1: V = 49, E = 85\n"
     ]
    }
   ],
   "source": [
    "# Stats\n",
    "\n",
    "adj = mergeCFG(function_map)\n",
    "adj_c = mergeCFG(compressed_map)\n",
    "e, e_c = 0, 0\n",
    "v, v_c = 0, 0\n",
    "v = len(adj)\n",
    "v_c = len(adj_c)\n",
    "\n",
    "for k in adj:\n",
    "    e += len(adj[k])\n",
    "for k in adj_c:\n",
    "    e_c += len(adj_c[k])\n",
    "print(f\"Uncompressed: V = {v}, E = {e}\")\n",
    "print(f\"Compressed-1: V = {v_c}, E = {e_c}\")"
   ]
  },
  {
   "cell_type": "code",
   "execution_count": 13,
   "id": "3be0292f",
   "metadata": {},
   "outputs": [],
   "source": [
    "generateImage(adj, f\"{path}/cfg\", \"uncompressed\")\n",
    "generateImage(adj_c, f\"{path}/cfg\", \"compressed-1\")"
   ]
  },
  {
   "cell_type": "code",
   "execution_count": 14,
   "id": "036e4a0d",
   "metadata": {},
   "outputs": [
    {
     "name": "stdout",
     "output_type": "stream",
     "text": [
      "Compressed-2: V = 10, E = 23\n"
     ]
    }
   ],
   "source": [
    "compressed_cfg = func_info(\n",
    "    \"cfg-global-compressed\",\n",
    "    function_map[\"main\"].start,\n",
    "    function_map[\"main\"].end, \n",
    "    adj,\n",
    "    set(),\n",
    "    False)\n",
    "\n",
    "compressed_cfg = t.compress(compressed_cfg)\n",
    "v_mc = len(compressed_cfg.adj)\n",
    "e_mc = 0\n",
    "for k in compressed_cfg.adj:\n",
    "    e_mc += len(compressed_cfg.adj[k])\n",
    "print(f\"Compressed-2: V = {v_mc}, E = {e_mc}\")"
   ]
  },
  {
   "cell_type": "code",
   "execution_count": 15,
   "id": "c5128e09",
   "metadata": {},
   "outputs": [],
   "source": [
    "generateImage(compressed_cfg.adj, f\"{path}/cfg\", \"compressed-2\")"
   ]
  },
  {
   "cell_type": "code",
   "execution_count": 16,
   "id": "2aa84d24",
   "metadata": {},
   "outputs": [],
   "source": [
    "with open(f\"{path}/cfg/stats\", 'w') as f:\n",
    "    f.write(f\"Uncompressed: V = {v}, E = {e}\\n\")\n",
    "    f.write(f\"Compressed-1: V = {v_c}, E = {e_c}\\n\")   \n",
    "    f.write(f\"Compressed-2: V = {v_mc}, E = {e_mc}\\n\")"
   ]
  },
  {
   "cell_type": "code",
   "execution_count": 17,
   "id": "585a0df3",
   "metadata": {},
   "outputs": [],
   "source": [
    "def generateGraph(adj, start):\n",
    "    blocks = adj.keys()\n",
    "    mapping = {}\n",
    "    \n",
    "    for i, b in enumerate(blocks):\n",
    "        mapping[b] = i\n",
    "    \n",
    "    new_adj = {}\n",
    "    start = mapping[start]\n",
    "\n",
    "    V = len(mapping)\n",
    "    E = 0\n",
    "    for u in adj:\n",
    "        u1 = mapping[u]\n",
    "        new_adj[u1] = []\n",
    "        for x in adj[u]:\n",
    "            v = x[0]\n",
    "            v1 = mapping[v]\n",
    "            sys_addr, sys_no = -1, -1\n",
    "            if x[1] == 2:\n",
    "                sys_addr, sys_no = x[2], x[3]\n",
    "            new_adj[u1].append([v1, sys_addr, sys_no])\n",
    "        E += len(new_adj[u1])\n",
    "\n",
    "    \n",
    "    \n",
    "    print(new_adj)\n",
    "    print(start)\n",
    "\n",
    "    with open(f'{binary_path}.dot', 'w') as f:\n",
    "        f.write(f'{V} {E} {start}\\n')\n",
    "        for u in new_adj:\n",
    "            for x in new_adj[u]:\n",
    "                f.write(f'{u} {x[0]} {x[1]} {x[2]}\\n')\n",
    "    \n",
    "    "
   ]
  },
  {
   "cell_type": "code",
   "execution_count": 18,
   "id": "f5721a58",
   "metadata": {},
   "outputs": [
    {
     "name": "stdout",
     "output_type": "stream",
     "text": [
      "{0: [[1, -1, -1], [2, -1, -1]], 1: [[49, -1, -1]], 2: [[49, -1, -1]], 3: [[5, -1, -1], [6, -1, -1]], 4: [[7, -1, -1], [8, -1, -1]], 5: [[9, -1, -1]], 6: [[81, -1, -1]], 7: [[9, -1, -1]], 8: [[70, -1, -1]], 9: [[12, -1, -1], [13, -1, -1]], 10: [[18, -1, -1]], 11: [[65, -1, -1]], 12: [], 13: [], 14: [[38, -1, -1]], 15: [[18, -1, -1]], 16: [[12, -1, -1], [13, -1, -1]], 17: [[14, -1, -1]], 18: [[19, -1, -1], [20, -1, -1]], 19: [[21, 4485877, 1]], 20: [[32, -1, -1]], 21: [[23, -1, -1], [24, -1, -1]], 22: [[25, 4485933, 1]], 23: [[14, -1, -1], [17, -1, -1]], 24: [[14, -1, -1], [17, -1, -1]], 25: [[26, -1, -1], [27, -1, -1]], 26: [[29, -1, -1]], 27: [[26, -1, -1]], 28: [[14, -1, -1], [17, -1, -1]], 29: [], 30: [[28, -1, -1], [48, -1, -1], [64, -1, -1], [80, -1, -1]], 31: [[28, -1, -1], [48, -1, -1], [64, -1, -1], [80, -1, -1]], 32: [[33, -1, -1], [34, -1, -1]], 33: [[35, -1, -1], [34, -1, -1]], 34: [[22, -1, -1], [42, -1, -1], [56, -1, -1], [74, -1, -1]], 35: [[36, -1, -1], [37, -1, -1]], 36: [[36, -1, -1], [37, -1, -1]], 37: [[29, -1, -1]], 38: [[39, -1, -1], [40, -1, -1]], 39: [[41, 4486085, 3]], 40: [[32, -1, -1]], 41: [[43, -1, -1], [44, -1, -1]], 42: [[45, 4486121, 3]], 43: [[16, -1, -1]], 44: [[16, -1, -1]], 45: [[46, -1, -1], [47, -1, -1]], 46: [[29, -1, -1]], 47: [[46, -1, -1]], 48: [[16, -1, -1]], 49: [[50, -1, -1], [51, -1, -1]], 50: [[51, -1, -1], [52, -1, -1]], 51: [[52, -1, -1]], 52: [[53, -1, -1], [54, -1, -1]], 53: [[55, 4485481, 257]], 54: [[32, -1, -1]], 55: [[57, -1, -1], [58, -1, -1]], 56: [[59, 4485602, 257]], 57: [[60, -1, -1], [61, -1, -1]], 58: [[57, -1, -1]], 59: [[62, -1, -1], [63, -1, -1]], 60: [[3, -1, -1], [4, -1, -1]], 61: [], 62: [[29, -1, -1]], 63: [[62, -1, -1]], 64: [[57, -1, -1]], 65: [[66, -1, -1], [67, -1, -1]], 66: [[68, -1, -1]], 67: [[65, -1, -1]], 68: [[15, -1, -1], [69, -1, -1]], 69: [[15, -1, -1], [69, -1, -1]], 70: [[71, -1, -1], [72, -1, -1]], 71: [[73, 4485712, -1]], 72: [[32, -1, -1]], 73: [[75, -1, -1], [76, -1, -1]], 74: [[77, 4485770, -1]], 75: [[11, -1, -1]], 76: [[11, -1, -1]], 77: [[78, -1, -1], [79, -1, -1]], 78: [[29, -1, -1]], 79: [[78, -1, -1]], 80: [[11, -1, -1]], 81: [[82, -1, -1], [83, -1, -1]], 82: [[84, -1, -1]], 83: [[85, -1, -1], [86, -1, -1]], 84: [[10, -1, -1], [87, -1, -1], [88, -1, -1]], 85: [[84, -1, -1]], 86: [[81, -1, -1]], 87: [[81, -1, -1]], 88: [[10, -1, -1], [87, -1, -1], [88, -1, -1]]}\n",
      "0\n"
     ]
    }
   ],
   "source": [
    "# Simple Merge\n",
    "generateGraph(adj, function_map['main'].start)"
   ]
  },
  {
   "cell_type": "code",
   "execution_count": 19,
   "id": "e3510e3b",
   "metadata": {},
   "outputs": [
    {
     "name": "stdout",
     "output_type": "stream",
     "text": [
      "{0: [[29, -1, -1], [29, -1, -1]], 1: [[3, -1, -1], [45, -1, -1]], 2: [[3, -1, -1], [38, -1, -1]], 3: [], 4: [[10, -1, -1]], 5: [[35, -1, -1]], 6: [[22, -1, -1]], 7: [[10, -1, -1]], 8: [[3, -1, -1]], 9: [[22, -1, -1]], 10: [[11, 4485877, 1], [20, -1, -1]], 11: [[13, -1, -1], [14, -1, -1]], 12: [[15, 4485933, 1]], 13: [[6, -1, -1], [9, -1, -1]], 14: [[6, -1, -1], [9, -1, -1]], 15: [[17, -1, -1]], 16: [[6, -1, -1], [9, -1, -1]], 17: [[18, -1, -1], [19, -1, -1]], 18: [[16, -1, -1], [28, -1, -1], [34, -1, -1], [44, -1, -1]], 19: [[16, -1, -1], [28, -1, -1], [34, -1, -1], [44, -1, -1]], 20: [[21, -1, -1], [21, -1, -1]], 21: [[12, -1, -1], [24, -1, -1], [31, -1, -1], [40, -1, -1]], 22: [[23, 4486085, 3], [20, -1, -1]], 23: [[25, -1, -1], [26, -1, -1]], 24: [[27, 4486121, 3]], 25: [[8, -1, -1], [8, -1, -1]], 26: [[8, -1, -1], [8, -1, -1]], 27: [[17, -1, -1]], 28: [[8, -1, -1], [8, -1, -1]], 29: [[30, 4485481, 257], [20, -1, -1]], 30: [[32, -1, -1]], 31: [[33, 4485602, 257]], 32: [[1, -1, -1], [2, -1, -1]], 33: [[17, -1, -1]], 34: [[32, -1, -1]], 35: [[36, -1, -1], [35, -1, -1]], 36: [[7, -1, -1], [37, -1, -1]], 37: [[7, -1, -1], [37, -1, -1]], 38: [[39, 4485712, -1], [20, -1, -1]], 39: [[41, -1, -1], [42, -1, -1]], 40: [[43, 4485770, -1]], 41: [[5, -1, -1]], 42: [[5, -1, -1]], 43: [[17, -1, -1]], 44: [[5, -1, -1]], 45: [[46, -1, -1], [46, -1, -1], [45, -1, -1]], 46: [[4, -1, -1], [47, -1, -1], [48, -1, -1]], 47: [[45, -1, -1]], 48: [[4, -1, -1], [47, -1, -1], [48, -1, -1]]}\n",
      "0\n"
     ]
    }
   ],
   "source": [
    "# function wise compressed\n",
    "generateGraph(adj_c, function_map['main'].start)"
   ]
  },
  {
   "cell_type": "code",
   "execution_count": 20,
   "id": "8fa62dbe",
   "metadata": {},
   "outputs": [
    {
     "name": "stdout",
     "output_type": "stream",
     "text": [
      "{0: [[1, 4485481, 257], [2, 4485933, 1], [3, 4486121, 3], [4, 4485602, 257], [5, 4485770, -1]], 1: [[6, -1, -1], [7, 4485877, 1], [2, 4485933, 1], [3, 4486121, 3], [4, 4485602, 257], [5, 4485770, -1], [8, 4485712, -1]], 2: [], 3: [], 4: [], 5: [], 6: [], 7: [[9, 4486085, 3], [2, 4485933, 1], [3, 4486121, 3], [4, 4485602, 257], [5, 4485770, -1]], 8: [[7, 4485877, 1], [2, 4485933, 1], [3, 4486121, 3], [4, 4485602, 257], [5, 4485770, -1]], 9: [[6, -1, -1]]}\n",
      "0\n"
     ]
    }
   ],
   "source": [
    "# Global compressed\n",
    "generateGraph(compressed_cfg.adj, function_map['main'].start)"
   ]
  },
  {
   "cell_type": "code",
   "execution_count": null,
   "id": "ab3821bd",
   "metadata": {},
   "outputs": [],
   "source": []
  }
 ],
 "metadata": {
  "kernelspec": {
   "display_name": "Python 3 (ipykernel)",
   "language": "python",
   "name": "python3"
  },
  "language_info": {
   "codemirror_mode": {
    "name": "ipython",
    "version": 3
   },
   "file_extension": ".py",
   "mimetype": "text/x-python",
   "name": "python",
   "nbconvert_exporter": "python",
   "pygments_lexer": "ipython3",
   "version": "3.9.7"
  }
 },
 "nbformat": 4,
 "nbformat_minor": 5
}
